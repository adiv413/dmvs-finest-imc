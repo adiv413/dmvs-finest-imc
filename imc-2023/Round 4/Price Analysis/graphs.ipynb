{
 "cells": [
  {
   "cell_type": "code",
   "execution_count": null,
   "metadata": {},
   "outputs": [],
   "source": [
    "import matplotlib.pyplot as plt\n",
    "\n",
    "prices = {\n",
    "    \"BANANAS\": [],\n",
    "    \"PEARLS\": [],\n",
    "    \"COCONUTS\": [],\n",
    "    \"BERRIES\": [],\n",
    "    \"PINA_COLADAS\": [],\n",
    "    \"DIP\": [],\n",
    "    \"UKULELE\": [],\n",
    "    \"DIVING_GEAR\": [],\n",
    "    \"BAGUETTE\": [],\n",
    "    \"PICNIC_BASKET\": [],\n",
    "    \"DOLPHIN_SIGHTINGS\": []\n",
    "}\n",
    "\n",
    "with open(\"prices_round_4_day_1.csv\", \"r\") as f:\n",
    "    for l in f:\n",
    "        line = l.split(\";\")\n",
    "        key = line[2]\n",
    "        price = line[15]"
   ]
  }
 ],
 "metadata": {
  "language_info": {
   "name": "python"
  },
  "orig_nbformat": 4
 },
 "nbformat": 4,
 "nbformat_minor": 2
}
