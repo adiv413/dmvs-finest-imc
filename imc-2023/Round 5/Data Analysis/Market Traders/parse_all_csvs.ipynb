{
 "cells": [
  {
   "cell_type": "code",
   "execution_count": 8,
   "metadata": {},
   "outputs": [],
   "source": [
    "import pandas as pd\n",
    "import matplotlib.pyplot as plt\n",
    "# parse all csvs to see whos market making and whos retail trading\n",
    "trades1 = pd.read_csv('all_csvs/trades_round_1_day_-1_wn.csv', sep = ';')\n",
    "trades2 = pd.read_csv('all_csvs/trades_round_1_day_-2_wn.csv', sep = ';')\n",
    "trades3 = pd.read_csv('all_csvs/trades_round_1_day_0_wn.csv', sep = ';')\n",
    "trades4 = pd.read_csv('all_csvs/trades_round_2_day_-1_wn.csv', sep = ';')\n",
    "trades5 = pd.read_csv('all_csvs/trades_round_2_day_0_wn.csv', sep = ';')\n",
    "trades6 = pd.read_csv('all_csvs/trades_round_2_day_1_wn.csv', sep = ';')\n",
    "trades7 = pd.read_csv('all_csvs/trades_round_3_day_0_wn.csv', sep = ';')\n",
    "trades8 = pd.read_csv('all_csvs/trades_round_3_day_1_wn.csv', sep = ';')\n",
    "trades9 = pd.read_csv('all_csvs/trades_round_3_day_2_wn.csv', sep = ';')\n",
    "trades10 = pd.read_csv('all_csvs/trades_round_4_day_1_wn.csv', sep = ';')\n",
    "trades11 = pd.read_csv('all_csvs/trades_round_4_day_2_wn.csv', sep = ';')\n",
    "trades12 = pd.read_csv('all_csvs/trades_round_4_day_3_wn.csv', sep = ';')\n",
    "\n",
    "all_trades = [trades1, trades2, trades3, trades4, trades5, trades6, trades7, trades8, trades9, trades10, trades11, trades12]\n",
    "\n",
    "for i in range(1, len(all_trades)):\n",
    "    all_trades[i]['timestamp'] = all_trades[i]['timestamp'] + 1000000 * i\n"
   ]
  },
  {
   "cell_type": "code",
   "execution_count": 16,
   "metadata": {},
   "outputs": [
    {
     "name": "stdout",
     "output_type": "stream",
     "text": [
      "11000200\n"
     ]
    }
   ],
   "source": [
    "print(trades12[\"timestamp\"].iloc[3])"
   ]
  },
  {
   "cell_type": "code",
   "execution_count": 17,
   "metadata": {},
   "outputs": [],
   "source": [
    "combined = pd.concat([trades1, trades2, trades3, trades4, trades5, trades6, trades7, trades8, trades9, trades10, trades11, trades12])"
   ]
  },
  {
   "cell_type": "code",
   "execution_count": 18,
   "metadata": {},
   "outputs": [],
   "source": [
    "raw_traders = [\"Peter\", \"Mitch\", \"Gary\", \"Penelope\", \"Omar\", \"Camilla\", \"Caesar\", \"Giulia\", \"Mabel\", \"Charlie\", \"Pablo\", \"Olivia\", \"Orson\", \"Casey\", \"George\", \"Mya\", \"Max\", \"Paris\", \"Gina\", \"Olga\"]\n",
    "traders = {}\n",
    "for i in raw_traders:\n",
    "    traders[i] = {\"buy\" : 0, \"sell\" : 0}"
   ]
  },
  {
   "cell_type": "code",
   "execution_count": 22,
   "metadata": {},
   "outputs": [],
   "source": [
    "all_buys = list(combined[\"buyer\"])\n",
    "all_sells = list(combined[\"seller\"])\n",
    "\n",
    "for i in all_buys:\n",
    "    traders[i][\"buy\"] += 1\n",
    "\n",
    "for i in all_sells:\n",
    "    traders[i][\"sell\"] += 1"
   ]
  },
  {
   "cell_type": "code",
   "execution_count": 24,
   "metadata": {},
   "outputs": [
    {
     "name": "stdout",
     "output_type": "stream",
     "text": [
      "{'Caesar': {'buy': 14838, 'sell': 12048},\n",
      " 'Camilla': {'buy': 9413, 'sell': 11499},\n",
      " 'Casey': {'buy': 0, 'sell': 0},\n",
      " 'Charlie': {'buy': 22024, 'sell': 18886},\n",
      " 'Gary': {'buy': 2608, 'sell': 2707},\n",
      " 'George': {'buy': 0, 'sell': 0},\n",
      " 'Gina': {'buy': 1540, 'sell': 1698},\n",
      " 'Giulia': {'buy': 0, 'sell': 0},\n",
      " 'Mabel': {'buy': 0, 'sell': 0},\n",
      " 'Max': {'buy': 0, 'sell': 0},\n",
      " 'Mitch': {'buy': 0, 'sell': 0},\n",
      " 'Mya': {'buy': 0, 'sell': 0},\n",
      " 'Olga': {'buy': 2, 'sell': 0},\n",
      " 'Olivia': {'buy': 27, 'sell': 31},\n",
      " 'Omar': {'buy': 0, 'sell': 0},\n",
      " 'Orson': {'buy': 0, 'sell': 0},\n",
      " 'Pablo': {'buy': 5030, 'sell': 6717},\n",
      " 'Paris': {'buy': 25994, 'sell': 27336},\n",
      " 'Penelope': {'buy': 4723, 'sell': 5192},\n",
      " 'Peter': {'buy': 1277, 'sell': 1362}}\n"
     ]
    }
   ],
   "source": [
    "from pprint import pprint\n",
    "pprint(traders)"
   ]
  },
  {
   "cell_type": "code",
   "execution_count": 31,
   "metadata": {},
   "outputs": [],
   "source": [
    "for i in raw_traders:\n",
    "    traders[i][\"products\"] = set()\n",
    "    traders[i][\"product_count\"] = 0"
   ]
  },
  {
   "cell_type": "code",
   "execution_count": 32,
   "metadata": {},
   "outputs": [
    {
     "name": "stdout",
     "output_type": "stream",
     "text": [
      "PINA_COLADAS traders: ['Peter', 'Caesar', 'Charlie', 'Pablo']\n",
      "DIP traders: ['Camilla', 'Caesar', 'Paris']\n",
      "BAGUETTE traders: ['Camilla', 'Caesar', 'Paris']\n",
      "PICNIC_BASKET traders: ['Penelope', 'Camilla', 'Caesar', 'Pablo']\n",
      "BERRIES traders: ['Peter', 'Gary', 'Penelope', 'Camilla', 'Charlie', 'Pablo', 'Olivia', 'Paris', 'Gina']\n",
      "DIVING_GEAR traders: ['Camilla', 'Charlie', 'Paris']\n",
      "BANANAS traders: ['Gary', 'Penelope', 'Camilla', 'Caesar', 'Charlie', 'Pablo', 'Olivia', 'Paris', 'Gina', 'Olga']\n",
      "COCONUTS traders: ['Peter', 'Caesar', 'Charlie', 'Pablo']\n",
      "PEARLS traders: ['Gary', 'Penelope', 'Camilla', 'Caesar', 'Charlie', 'Pablo', 'Paris', 'Gina']\n",
      "UKULELE traders: ['Camilla', 'Caesar', 'Olivia', 'Paris']\n"
     ]
    }
   ],
   "source": [
    "products = ['PINA_COLADAS', 'DIP', 'BAGUETTE', 'PICNIC_BASKET', 'BERRIES', 'DIVING_GEAR', 'BANANAS', 'COCONUTS', 'PEARLS', 'UKULELE']\n",
    "buyOrders = {buyer:combined[combined['buyer'] == buyer] for buyer in combined['buyer'].unique()}\n",
    "sellOrders = {seller:combined[combined['seller'] == seller] for seller in combined['seller'].unique()}\n",
    "\n",
    "for product in products:\n",
    "    product_traders = [trader for trader in traders if trader in buyOrders and product in buyOrders[trader]['symbol'].unique() or trader in sellOrders and product in sellOrders[trader]['symbol'].unique()]\n",
    "    print(product, \"traders:\", product_traders)\n",
    "    for t in product_traders:\n",
    "        traders[t][\"products\"].add(product)\n",
    "        traders[t][\"product_count\"] = len(traders[t][\"products\"])"
   ]
  },
  {
   "cell_type": "code",
   "execution_count": 33,
   "metadata": {},
   "outputs": [
    {
     "name": "stdout",
     "output_type": "stream",
     "text": [
      "{'Caesar': {'buy': 14838,\n",
      "            'product_count': 8,\n",
      "            'products': {'BAGUETTE',\n",
      "                         'BANANAS',\n",
      "                         'COCONUTS',\n",
      "                         'DIP',\n",
      "                         'PEARLS',\n",
      "                         'PICNIC_BASKET',\n",
      "                         'PINA_COLADAS',\n",
      "                         'UKULELE'},\n",
      "            'sell': 12048},\n",
      " 'Camilla': {'buy': 9413,\n",
      "             'product_count': 8,\n",
      "             'products': {'BAGUETTE',\n",
      "                          'BANANAS',\n",
      "                          'BERRIES',\n",
      "                          'DIP',\n",
      "                          'DIVING_GEAR',\n",
      "                          'PEARLS',\n",
      "                          'PICNIC_BASKET',\n",
      "                          'UKULELE'},\n",
      "             'sell': 11499},\n",
      " 'Casey': {'buy': 0, 'product_count': 0, 'products': set(), 'sell': 0},\n",
      " 'Charlie': {'buy': 22024,\n",
      "             'product_count': 6,\n",
      "             'products': {'BANANAS',\n",
      "                          'BERRIES',\n",
      "                          'COCONUTS',\n",
      "                          'DIVING_GEAR',\n",
      "                          'PEARLS',\n",
      "                          'PINA_COLADAS'},\n",
      "             'sell': 18886},\n",
      " 'Gary': {'buy': 2608,\n",
      "          'product_count': 3,\n",
      "          'products': {'BERRIES', 'PEARLS', 'BANANAS'},\n",
      "          'sell': 2707},\n",
      " 'George': {'buy': 0, 'product_count': 0, 'products': set(), 'sell': 0},\n",
      " 'Gina': {'buy': 1540,\n",
      "          'product_count': 3,\n",
      "          'products': {'BERRIES', 'PEARLS', 'BANANAS'},\n",
      "          'sell': 1698},\n",
      " 'Giulia': {'buy': 0, 'product_count': 0, 'products': set(), 'sell': 0},\n",
      " 'Mabel': {'buy': 0, 'product_count': 0, 'products': set(), 'sell': 0},\n",
      " 'Max': {'buy': 0, 'product_count': 0, 'products': set(), 'sell': 0},\n",
      " 'Mitch': {'buy': 0, 'product_count': 0, 'products': set(), 'sell': 0},\n",
      " 'Mya': {'buy': 0, 'product_count': 0, 'products': set(), 'sell': 0},\n",
      " 'Olga': {'buy': 2, 'product_count': 1, 'products': {'BANANAS'}, 'sell': 0},\n",
      " 'Olivia': {'buy': 27,\n",
      "            'product_count': 3,\n",
      "            'products': {'BERRIES', 'UKULELE', 'BANANAS'},\n",
      "            'sell': 31},\n",
      " 'Omar': {'buy': 0, 'product_count': 0, 'products': set(), 'sell': 0},\n",
      " 'Orson': {'buy': 0, 'product_count': 0, 'products': set(), 'sell': 0},\n",
      " 'Pablo': {'buy': 5030,\n",
      "           'product_count': 6,\n",
      "           'products': {'BANANAS',\n",
      "                        'BERRIES',\n",
      "                        'COCONUTS',\n",
      "                        'PEARLS',\n",
      "                        'PICNIC_BASKET',\n",
      "                        'PINA_COLADAS'},\n",
      "           'sell': 6717},\n",
      " 'Paris': {'buy': 25994,\n",
      "           'product_count': 7,\n",
      "           'products': {'BAGUETTE',\n",
      "                        'BANANAS',\n",
      "                        'BERRIES',\n",
      "                        'DIP',\n",
      "                        'DIVING_GEAR',\n",
      "                        'PEARLS',\n",
      "                        'UKULELE'},\n",
      "           'sell': 27336},\n",
      " 'Penelope': {'buy': 4723,\n",
      "              'product_count': 4,\n",
      "              'products': {'BERRIES', 'PICNIC_BASKET', 'PEARLS', 'BANANAS'},\n",
      "              'sell': 5192},\n",
      " 'Peter': {'buy': 1277,\n",
      "           'product_count': 3,\n",
      "           'products': {'BERRIES', 'COCONUTS', 'PINA_COLADAS'},\n",
      "           'sell': 1362}}\n"
     ]
    }
   ],
   "source": [
    "pprint(traders)"
   ]
  }
 ],
 "metadata": {
  "kernelspec": {
   "display_name": "Python 3",
   "language": "python",
   "name": "python3"
  },
  "language_info": {
   "codemirror_mode": {
    "name": "ipython",
    "version": 3
   },
   "file_extension": ".py",
   "mimetype": "text/x-python",
   "name": "python",
   "nbconvert_exporter": "python",
   "pygments_lexer": "ipython3",
   "version": "3.9.6"
  },
  "orig_nbformat": 4
 },
 "nbformat": 4,
 "nbformat_minor": 2
}
